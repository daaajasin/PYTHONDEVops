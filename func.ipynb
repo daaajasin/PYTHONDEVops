{
 "cells": [
  {
   "cell_type": "code",
   "execution_count": null,
   "metadata": {
    "collapsed": true
   },
   "outputs": [],
   "source": [
    "def add(*n):\n"
   ]
  },
  {
   "cell_type": "code",
   "execution_count": 4,
   "outputs": [
    {
     "name": "stdout",
     "output_type": "stream",
     "text": [
      "158\n"
     ]
    }
   ],
   "source": [
    "def addition(*n):\n",
    "    sm = 0\n",
    "    for num in n:\n",
    "        sm += num\n",
    "    print(sm)\n",
    "\n",
    "addition(71,22,31,34)"
   ],
   "metadata": {
    "collapsed": false
   }
  },
  {
   "cell_type": "code",
   "execution_count": 5,
   "outputs": [
    {
     "name": "stdout",
     "output_type": "stream",
     "text": [
      "name :  Dimeji\n",
      "age :  17\n",
      "marks :  45\n"
     ]
    }
   ],
   "source": [
    "def info(**kw):\n",
    "    for k,v in kw.items():\n",
    "        print(k, ': ', v)\n",
    "\n",
    "info(\n",
    "    name = 'Dimeji',\n",
    "    age = 17,\n",
    "    marks = 45\n",
    ")"
   ],
   "metadata": {
    "collapsed": false
   }
  },
  {
   "cell_type": "code",
   "execution_count": null,
   "outputs": [],
   "source": [],
   "metadata": {
    "collapsed": false
   }
  },
  {
   "cell_type": "markdown",
   "source": [
    "LAMBDA Function"
   ],
   "metadata": {
    "collapsed": false
   }
  },
  {
   "cell_type": "code",
   "execution_count": 7,
   "outputs": [
    {
     "name": "stdout",
     "output_type": "stream",
     "text": [
      "76\n"
     ]
    }
   ],
   "source": [
    "sub = lambda n, m : n*m\n",
    "\n",
    "print(sub(19, 4))"
   ],
   "metadata": {
    "collapsed": false
   }
  },
  {
   "cell_type": "code",
   "execution_count": 9,
   "outputs": [
    {
     "name": "stdout",
     "output_type": "stream",
     "text": [
      "10.0\n"
     ]
    }
   ],
   "source": [
    "name = lambda a,b,c : a*b / c\n",
    "\n",
    "print(name(6,5,3))"
   ],
   "metadata": {
    "collapsed": false
   }
  },
  {
   "cell_type": "code",
   "execution_count": 11,
   "outputs": [
    {
     "name": "stdout",
     "output_type": "stream",
     "text": [
      "[2, 2, 3, 5, 6, 7, 8, 8, 12, 12, 56, 23]\n",
      "[2, 3, 5, 6, 7, 8, 12, 23, 56]\n"
     ]
    }
   ],
   "source": [
    "lst = [2,2,3,5,6,7,8,8,12,12,56,23]\n",
    "def remove_dup(l):\n",
    "    unique = set(l)\n",
    "\n",
    "    u = list(unique)\n",
    "    u.sort()\n",
    "    return u\n",
    "\n",
    "\n",
    "print (lst)\n",
    "print(remove_dup(lst))"
   ],
   "metadata": {
    "collapsed": false
   }
  },
  {
   "cell_type": "code",
   "execution_count": 13,
   "outputs": [
    {
     "name": "stdout",
     "output_type": "stream",
     "text": [
      "{2, 3, 5, 6, 7, 8, 12, 23, 56}\n"
     ]
    }
   ],
   "source": [
    "lst = [2,2,3,5,6,7,8,8,12,12,56,23]\n",
    "def remove_dup(l):\n",
    "    unique = set(l)\n",
    "    print(unique)\n",
    "\n",
    "remove_dup(lst)"
   ],
   "metadata": {
    "collapsed": false
   }
  },
  {
   "cell_type": "code",
   "execution_count": 16,
   "outputs": [
    {
     "name": "stdout",
     "output_type": "stream",
     "text": [
      "630.08\n"
     ]
    }
   ],
   "source": [
    "def sum_r(*n):\n",
    "    sm = 0\n",
    "    d = []\n",
    "    for num in n:\n",
    "        sm += num\n",
    "        Num = str(num).split('.')\n",
    "        d.append(len(Num[1]))\n",
    "\n",
    "    min_d = min(d)\n",
    "    return round(sm, min_d)\n",
    "\n",
    "print(sum_r(23.543,65.675,87.983, 452.87897))"
   ],
   "metadata": {
    "collapsed": false
   }
  },
  {
   "cell_type": "code",
   "execution_count": 20,
   "outputs": [
    {
     "name": "stdout",
     "output_type": "stream",
     "text": [
      "4.0 7.48\n"
     ]
    }
   ],
   "source": [
    "class Algebra():\n",
    "    def __init__(self, r = 0.0, i = 0.0):\n",
    "        self.real = r\n",
    "        self.imag = i\n",
    "\n",
    "    def __add__(self, y):\n",
    "        self.real = self.real + y.real\n",
    "        self.imag = self.imag + y.imag\n",
    "        return self\n",
    "\n",
    "    def sho_val(self):\n",
    "        print(self.real, self.imag)\n",
    "\n",
    "\n",
    "num1 = Algebra(2.5, 4.23)\n",
    "num2 = Algebra(1.5, 3.25)\n",
    "num3 = num1 + num2\n",
    "num3.sho_val()\n",
    "\n",
    "\n"
   ],
   "metadata": {
    "collapsed": false
   }
  },
  {
   "cell_type": "code",
   "execution_count": 23,
   "outputs": [
    {
     "name": "stdout",
     "output_type": "stream",
     "text": [
      "8\n"
     ]
    }
   ],
   "source": [
    "class SumPair():\n",
    "    def __init__(self, lst):\n",
    "        self.List = lst\n",
    "        self.List_len = len(lst)\n",
    "        self.i1 = 0\n",
    "        self.i2 = 1\n",
    "    def __iter__(self):\n",
    "        return self\n",
    "\n",
    "    def __next__(self):\n",
    "        if self.i2 == self.List_len:\n",
    "            raise StopIteration\n",
    "\n",
    "\n",
    "l = SumPair([12,43,23,45,23,45,12,76])\n",
    "print(l.List_len)"
   ],
   "metadata": {
    "collapsed": false
   }
  },
  {
   "cell_type": "markdown",
   "source": [
    "multilevel inheritance"
   ],
   "metadata": {
    "collapsed": false
   }
  },
  {
   "cell_type": "code",
   "execution_count": 24,
   "outputs": [
    {
     "name": "stdout",
     "output_type": "stream",
     "text": [
      "Codin\n",
      "Coding in Python\n",
      "new.html @ django\n"
     ]
    }
   ],
   "source": [
    "class Coder():\n",
    "    def code(self):\n",
    "        print('Codin')\n",
    "\n",
    "class Pythonner(Coder):\n",
    "    def py_code(self):\n",
    "        print('Coding in Python')\n",
    "\n",
    "class Django(Pythonner):\n",
    "    def web_dev(self):\n",
    "        print('new.html @ django')\n",
    "\n",
    "web = Django()\n",
    "web.code()\n",
    "web.py_code()\n",
    "web.web_dev()"
   ],
   "metadata": {
    "collapsed": false
   }
  },
  {
   "cell_type": "code",
   "execution_count": 25,
   "outputs": [
    {
     "name": "stdout",
     "output_type": "stream",
     "text": [
      "Help on class Cube in module __main__:\n",
      "\n",
      "class Cube(builtins.object)\n",
      " |  Cube(num)\n",
      " |  \n",
      " |  Methods defined here:\n",
      " |  \n",
      " |  __init__(self, num)\n",
      " |      Initialize self.  See help(type(self)) for accurate signature.\n",
      " |  \n",
      " |  ----------------------------------------------------------------------\n",
      " |  Data descriptors defined here:\n",
      " |  \n",
      " |  __dict__\n",
      " |      dictionary for instance variables (if defined)\n",
      " |  \n",
      " |  __weakref__\n",
      " |      list of weak references to the object (if defined)\n",
      "\n",
      "None\n"
     ]
    }
   ],
   "source": [
    "class ZeroCubeError(Exception):\n",
    "    '''0 can\\'t be passed as a cube'''\n",
    "\n",
    "class Cube():\n",
    "    def __init__(self, num):\n",
    "        num = int(num)\n",
    "        if num !=0:\n",
    "            self.qub = num**3\n",
    "        else:\n",
    "            pass\n",
    "\n",
    "def Cude(number):\n",
    "    '''This function cubes numbers Code : print(number**3)'''\n",
    "    print(number**3)\n",
    "\n",
    "\n",
    "print(help(Cube))"
   ],
   "metadata": {
    "collapsed": false
   }
  },
  {
   "cell_type": "code",
   "execution_count": 29,
   "outputs": [
    {
     "name": "stdout",
     "output_type": "stream",
     "text": [
      "2023-10-22 00:23:18.780522\n"
     ]
    }
   ],
   "source": [
    "from datetime import datetime\n",
    "Time = datetime.now()\n",
    "\n",
    "print(Time)"
   ],
   "metadata": {
    "collapsed": false
   }
  },
  {
   "cell_type": "code",
   "execution_count": 30,
   "outputs": [
    {
     "name": "stdout",
     "output_type": "stream",
     "text": [
      "2023-10-22\n"
     ]
    }
   ],
   "source": [
    "from datetime import date\n",
    "\n",
    "Time = date.today()\n",
    "print(Time)"
   ],
   "metadata": {
    "collapsed": false
   }
  },
  {
   "cell_type": "code",
   "execution_count": 33,
   "outputs": [
    {
     "name": "stdout",
     "output_type": "stream",
     "text": [
      "0b11\n"
     ]
    }
   ],
   "source": [
    "print(bin(3))"
   ],
   "metadata": {
    "collapsed": false
   }
  },
  {
   "cell_type": "markdown",
   "source": [
    "# Heading\n",
    "---\n"
   ],
   "metadata": {
    "collapsed": false
   }
  },
  {
   "cell_type": "code",
   "execution_count": null,
   "outputs": [],
   "source": [
    "import numpy"
   ],
   "metadata": {
    "collapsed": false
   }
  }
 ],
 "metadata": {
  "kernelspec": {
   "display_name": "Python 3",
   "language": "python",
   "name": "python3"
  },
  "language_info": {
   "codemirror_mode": {
    "name": "ipython",
    "version": 2
   },
   "file_extension": ".py",
   "mimetype": "text/x-python",
   "name": "python",
   "nbconvert_exporter": "python",
   "pygments_lexer": "ipython2",
   "version": "2.7.6"
  }
 },
 "nbformat": 4,
 "nbformat_minor": 0
}
